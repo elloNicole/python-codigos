{
  "nbformat": 4,
  "nbformat_minor": 0,
  "metadata": {
    "colab": {
      "provenance": [],
      "authorship_tag": "ABX9TyMzZn1crBm0kIeYLmE8VGny",
      "include_colab_link": true
    },
    "kernelspec": {
      "name": "python3",
      "display_name": "Python 3"
    },
    "language_info": {
      "name": "python"
    }
  },
  "cells": [
    {
      "cell_type": "markdown",
      "metadata": {
        "id": "view-in-github",
        "colab_type": "text"
      },
      "source": [
        "<a href=\"https://colab.research.google.com/github/elloNicole/python-codigos/blob/main/ClassesPy.ipynb\" target=\"_parent\"><img src=\"https://colab.research.google.com/assets/colab-badge.svg\" alt=\"Open In Colab\"/></a>"
      ]
    },
    {
      "cell_type": "code",
      "execution_count": null,
      "metadata": {
        "colab": {
          "base_uri": "https://localhost:8080/"
        },
        "id": "blis7j1e9lnS",
        "outputId": "4ce2de60-1cf1-4eb7-95b8-456b731cb8fb"
      },
      "outputs": [
        {
          "output_type": "stream",
          "name": "stdout",
          "text": [
            "Nome:  Bruno\n",
            "Sobrenome:  Fernandes\n",
            "Função:  Professora\n",
            "Alunos não têm acesso\n",
            "Mostrar holerite\n",
            "Não tem acesso\n"
          ]
        }
      ],
      "source": [
        "class Escola:\n",
        "\n",
        "    def __init__(self, nome, sobrenome, funcao):\n",
        "        self.nome = nome\n",
        "        self.sobrenome = sobrenome\n",
        "        self.funcao = funcao\n",
        "\n",
        "    def informacao(self):\n",
        "        if self.funcao != \"Diretor\":\n",
        "            print(\"Nome:  {}\".format(self.nome))\n",
        "            print(\"Sobrenome:  {}\".format(self.sobrenome))\n",
        "            print(\"Função:  {}\".format(self.funcao))\n",
        "\n",
        "    def calcularMedia(self):\n",
        "        if self.funcao != \"Aluno\":\n",
        "            nota = 0\n",
        "            media = 60\n",
        "            nome = input(\"Informe o nome do aluno: \")\n",
        "            n1 = float(input(\"Informe a primeira nota: \"))\n",
        "            n2 = float(input(\"Informe a segunda nota: \"))\n",
        "            n3 = float(input(\"Informe a terceira nota: \"))\n",
        "            nota = (n1 + n2 + n3) / 3\n",
        "\n",
        "            if nota >= media:\n",
        "                print(\"Aluno aprovado\")\n",
        "            else:\n",
        "                print(\"Aluno reprovado\")\n",
        "        else:\n",
        "            print(\"Alunos não têm acesso\")\n",
        "\n",
        "    def mostrarHolerite(self):\n",
        "        if self.funcao == \"Secretaria\":\n",
        "            print(\"Mostrar holerite\")\n",
        "        else:\n",
        "            print(\"Não tem acesso\")\n",
        "\n",
        "\n",
        "class Diretor(Escola):\n",
        "    def __init__(self, nome, sobrenome, funcao):\n",
        "        super().__init__(nome, sobrenome, funcao)\n",
        "\n",
        "\n",
        "class Professor(Escola):\n",
        "    def __init__(self, nome, sobrenome, funcao):\n",
        "        super().__init__(nome, sobrenome, funcao)\n",
        "\n",
        "\n",
        "class Aluno(Escola):\n",
        "    def __init__(self, nome, sobrenome, funcao):\n",
        "        super().__init__(nome, sobrenome, funcao)\n",
        "\n",
        "\n",
        "class FuncionarioRh(Escola):\n",
        "    def __init__(self, nome, sobrenome, funcao):\n",
        "        super().__init__(nome, sobrenome, funcao)\n",
        "\n",
        "\n",
        "diretor = Diretor(\"Andre\", \"Silva\", \"Diretor\")\n",
        "professor = Professor(\"Bruno\", \"Fernandes\", \"Professora\")\n",
        "aluno = Aluno(\"João\", \"Santos\", \"Aluno\")\n",
        "rh1 = FuncionarioRh(\"Fernanda\", \"Costa\", \"Secretaria\")\n",
        "\n",
        "# Testando as funções\n",
        "diretor.informacao()  # Não deve imprimir informações\n",
        "professor.informacao()  # Deve imprimir as informações do professor\n",
        "aluno.calcularMedia()  # Deve imprimir que alunos não têm acesso\n",
        "rh1.mostrarHolerite()  # Deve imprimir \"Mostrar holerite\"\n",
        "diretor.mostrarHolerite()  # Deve imprimir \"Não tem acesso\"\n"
      ]
    }
  ]
}