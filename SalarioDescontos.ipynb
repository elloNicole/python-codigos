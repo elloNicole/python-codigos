{
  "nbformat": 4,
  "nbformat_minor": 0,
  "metadata": {
    "colab": {
      "provenance": [],
      "include_colab_link": true
    },
    "kernelspec": {
      "name": "python3",
      "display_name": "Python 3"
    },
    "language_info": {
      "name": "python"
    }
  },
  "cells": [
    {
      "cell_type": "markdown",
      "metadata": {
        "id": "view-in-github",
        "colab_type": "text"
      },
      "source": [
        "<a href=\"https://colab.research.google.com/github/elloNicole/python-codigos/blob/main/SalarioDescontos.ipynb\" target=\"_parent\"><img src=\"https://colab.research.google.com/assets/colab-badge.svg\" alt=\"Open In Colab\"/></a>"
      ]
    },
    {
      "cell_type": "code",
      "execution_count": null,
      "metadata": {
        "colab": {
          "base_uri": "https://localhost:8080/"
        },
        "id": "kl9O-i8FOr0A",
        "outputId": "a16c8055-133f-41ab-adce-09cb1d88e9c1"
      },
      "outputs": [
        {
          "output_type": "stream",
          "name": "stdout",
          "text": [
            "Digite o valor que você ganha a hora trabalhada: 80\n",
            "Digite quantas horas trabalhadas no mês: 140\n",
            "- Salário base:  R$11200.00\n",
            "- IR (11%) : R$1232.00\n",
            "- INSS (8%) : R$896.00\n",
            "- Sindicato (5%) : R$560.00\n",
            "- Salário Liquido :  R$8512.00\n"
          ]
        }
      ],
      "source": [
        "#programa que calcula o salario do mes, considerando descontos\n",
        "\n",
        "valorHora=float(input(\"Digite o valor que você ganha a hora trabalhada: \"))\n",
        "horas=float(input(\"Digite quantas horas trabalhadas no mês: \"))\n",
        "\n",
        "valorBruto=valorHora*horas\n",
        "\n",
        "inss=valorBruto*0.08\n",
        "ir=valorBruto*0.11\n",
        "sindicato=valorBruto*0.05\n",
        "salarioLiquido= valorBruto - (inss+ir+sindicato)\n",
        "\n",
        "print(f\"- Salário base:  R${valorBruto:.2f}\")\n",
        "print(f\"- IR (11%) : R${ir:.2f}\")\n",
        "print(f\"- INSS (8%) : R${inss:.2f}\")\n",
        "print(f\"- Sindicato (5%) : R${sindicato:.2f}\")\n",
        "print(f\"- Salário Liquido :  R${salarioLiquido:.2f}\")"
      ]
    }
  ]
}