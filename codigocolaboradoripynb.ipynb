{
  "nbformat": 4,
  "nbformat_minor": 0,
  "metadata": {
    "colab": {
      "provenance": [],
      "include_colab_link": true
    },
    "kernelspec": {
      "name": "python3",
      "display_name": "Python 3"
    },
    "language_info": {
      "name": "python"
    }
  },
  "cells": [
    {
      "cell_type": "markdown",
      "metadata": {
        "id": "view-in-github",
        "colab_type": "text"
      },
      "source": [
        "<a href=\"https://colab.research.google.com/github/elloNicole/python-codigos/blob/main/codigocolaboradoripynb.ipynb\" target=\"_parent\"><img src=\"https://colab.research.google.com/assets/colab-badge.svg\" alt=\"Open In Colab\"/></a>"
      ]
    },
    {
      "cell_type": "code",
      "execution_count": null,
      "metadata": {
        "colab": {
          "base_uri": "https://localhost:8080/"
        },
        "id": "lKC9C1sqHZ72",
        "outputId": "cabb76de-af52-4c8c-b861-53bf8f5bcdf3"
      },
      "outputs": [
        {
          "output_type": "stream",
          "name": "stdout",
          "text": [
            "Insira o salario (com ponto, não virgula)  1600\n",
            "Valor do salário base:  1600.00\n",
            "Porcentagem do aumento aplicado:  5.00\n",
            "Valor do aumento:  80.00\n",
            "Valor do novo salário, após o aumento:  1680.00\n"
          ]
        }
      ],
      "source": [
        "#programa que calcula o aumento e reajustes de salários de colabores\n",
        "\n",
        "salarioBase=float(input(\"Insira o salario (com ponto, não virgula)  \"))\n",
        "\n",
        "if salarioBase<=280:\n",
        "  aumento=20\n",
        "\n",
        "elif salarioBase>280 and salarioBase<700:\n",
        "    aumento=15\n",
        "\n",
        "elif salarioBase>700 and salarioBase<1500:\n",
        "    aumento=10\n",
        "\n",
        "else:\n",
        "    aumento=5\n",
        "\n",
        "calculoAumento=aumento/100\n",
        "valorAumento=salarioBase*calculoAumento\n",
        "salarioNovo=salarioBase+valorAumento\n",
        "\n",
        "print(f\"Valor do salário base:  {salarioBase:.2f}\")\n",
        "print(f\"Porcentagem do aumento aplicado:  {aumento:.1f}%\")\n",
        "print(f\"Valor do aumento:  {valorAumento:.2f}\")\n",
        "print(f\"Valor do novo salário, após o aumento:  {salarioNovo:.2f}\")"
      ]
    }
  ]
}