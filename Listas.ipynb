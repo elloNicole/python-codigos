{
  "nbformat": 4,
  "nbformat_minor": 0,
  "metadata": {
    "colab": {
      "provenance": [],
      "authorship_tag": "ABX9TyOleWEroguuGJ3i+4PlfWBR",
      "include_colab_link": true
    },
    "kernelspec": {
      "name": "python3",
      "display_name": "Python 3"
    },
    "language_info": {
      "name": "python"
    }
  },
  "cells": [
    {
      "cell_type": "markdown",
      "metadata": {
        "id": "view-in-github",
        "colab_type": "text"
      },
      "source": [
        "<a href=\"https://colab.research.google.com/github/elloNicole/python-codigos/blob/main/Listas.ipynb\" target=\"_parent\"><img src=\"https://colab.research.google.com/assets/colab-badge.svg\" alt=\"Open In Colab\"/></a>"
      ]
    },
    {
      "cell_type": "code",
      "execution_count": null,
      "metadata": {
        "colab": {
          "base_uri": "https://localhost:8080/"
        },
        "id": "yGT8rBa62gB2",
        "outputId": "8a814e8e-f668-48b2-d396-966fa51cfa80"
      },
      "outputs": [
        {
          "output_type": "stream",
          "name": "stdout",
          "text": [
            "['Urus', 'x4', 'Aventador']\n",
            "['Urus', 'x4', 'Aventador', 'Camaro']\n",
            "['Bugatti Chiron', 'Urus', 'x4', 'Aventador', 'Camaro']\n",
            "['Bugatti Chiron', 'Urus', 'x4', 'Aventador', 'Camaro', 'Ferrari Spider']\n",
            "['Bugatti Chiron', 'Ferrari Spider', 'Urus', 'x4', 'Aventador', 'Camaro', 'Ferrari Spider']\n",
            "['Bugatti Chiron', 'Urus', 'x4', 'Aventador', 'Camaro', 'Ferrari Spider']\n",
            "['Aventador', 'Bugatti Chiron', 'Camaro', 'Ferrari Spider', 'Urus', 'x4']\n",
            "['x4', 'Urus', 'Ferrari Spider', 'Camaro', 'Bugatti Chiron', 'Aventador']\n"
          ]
        }
      ],
      "source": [
        "veiculos = [\"Urus\", \"x4\", \"Aventador\"]\n",
        "print(veiculos);\n",
        "veiculos.append(\"Camaro\")\n",
        "print(veiculos);\n",
        "veiculos.insert(0, \"Bugatti Chiron\")\n",
        "print(veiculos);\n",
        "veiculos.append(\"Ferrari Spider\") #adiciona esse elemento\n",
        "print(veiculos);\n",
        "veiculos.insert(1, \"Ferrari Spider\") #adiciona esse elemento com base na posicao\n",
        "print(veiculos);\n",
        "\n",
        "num= veiculos.count(\"Ferrari Spider\") # conta quantos desses tem na lista\n",
        "\n",
        "if num > 1:\n",
        "  veiculos.remove(\"Ferrari Spider\")\n",
        "\n",
        "print(veiculos);\n",
        "\n",
        "veiculos.sort()\n",
        "print(veiculos)\n",
        "veiculos.reverse()\n",
        "print(veiculos)"
      ]
    }
  ]
}