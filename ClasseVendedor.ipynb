{
  "nbformat": 4,
  "nbformat_minor": 0,
  "metadata": {
    "colab": {
      "provenance": [],
      "toc_visible": true,
      "authorship_tag": "ABX9TyNs9qctX0y0OePuu77hOinj",
      "include_colab_link": true
    },
    "kernelspec": {
      "name": "python3",
      "display_name": "Python 3"
    },
    "language_info": {
      "name": "python"
    }
  },
  "cells": [
    {
      "cell_type": "markdown",
      "metadata": {
        "id": "view-in-github",
        "colab_type": "text"
      },
      "source": [
        "<a href=\"https://colab.research.google.com/github/elloNicole/python-codigos/blob/main/ClasseVendedor.ipynb\" target=\"_parent\"><img src=\"https://colab.research.google.com/assets/colab-badge.svg\" alt=\"Open In Colab\"/></a>"
      ]
    },
    {
      "cell_type": "code",
      "execution_count": null,
      "metadata": {
        "colab": {
          "base_uri": "https://localhost:8080/"
        },
        "id": "_4oHSrFB9heA",
        "outputId": "989e5afd-e1fa-4926-a312-662947a518dc"
      },
      "outputs": [
        {
          "output_type": "stream",
          "name": "stdout",
          "text": [
            "Vendedor não bateu a meta\n"
          ]
        }
      ],
      "source": [
        "class Vendedor():\n",
        "  def __init__(self,nome) :\n",
        "    self.nome = nome\n",
        "    self.vendas= 0\n",
        "\n",
        "\n",
        "  def venda(self, vendas):\n",
        "    self.vendas =vendas\n",
        "\n",
        "  def meta(self, meta):\n",
        "    if self.vendas > meta:\n",
        "      print(\"Vendedor bateu a meTa\")\n",
        "    else:\n",
        "      print(\"Vendedor não bateu a meta\")\n",
        "\n",
        "vendedor1 = Vendedor(\"Fernanda\")\n",
        "vendedor1.venda(500)\n",
        "vendedor1.meta(600)"
      ]
    }
  ]
}